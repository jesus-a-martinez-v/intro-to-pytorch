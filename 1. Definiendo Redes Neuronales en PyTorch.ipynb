{
 "cells": [
  {
   "cell_type": "markdown",
   "metadata": {},
   "source": [
    "# 1. Definiendo Redes Neuronales en PyTorch\n",
    "\n",
    "Ha llegado la hora del plato principal: ¡Redes neuronales!"
   ]
  },
  {
   "cell_type": "markdown",
   "metadata": {},
   "source": [
    "## Preliminares\n",
    "\n",
    "Importemos las librerías que usaremos."
   ]
  },
  {
   "cell_type": "code",
   "execution_count": 1,
   "metadata": {},
   "outputs": [],
   "source": [
    "%matplotlib inline\n",
    "%config InlineBackend.figure_format = 'retina'\n",
    "\n",
    "import numpy as np\n",
    "import torch\n",
    "from torch import nn\n",
    "from torch import optim\n",
    "import torch.nn.functional as F\n",
    "\n",
    "import utils\n",
    "\n",
    "import matplotlib.pyplot as plt\n",
    "from torchvision import datasets, transforms"
   ]
  },
  {
   "cell_type": "markdown",
   "metadata": {},
   "source": [
    "## Data\n",
    "\n",
    "Como de costumbre, con propósitos demostrativos, nos apoyaremos en el conjunto de datos MNIST.\n",
    "\n",
    "Para importarlo, usaremos el paquete `torchvision`."
   ]
  },
  {
   "cell_type": "code",
   "execution_count": 2,
   "metadata": {},
   "outputs": [],
   "source": [
    "transform = transforms.Compose([transforms.ToTensor(),\n",
    "                                transforms.Normalize((0.5, 0.5, 0.5), (0.5, 0.5, 0.5))])\n",
    "\n",
    "train_set = datasets.MNIST('MNIST_data/', download=True, train=True, transform=transform)\n",
    "train_loader = torch.utils.data.DataLoader(train_set, batch_size=64, shuffle=True)\n",
    "\n",
    "test_set = datasets.MNIST('MNIST_data/', download=True, train=False, transform=transform)\n",
    "test_loader = torch.utils.data.DataLoader(test_set, batch_size=64, shuffle=True)"
   ]
  },
  {
   "cell_type": "code",
   "execution_count": 3,
   "metadata": {},
   "outputs": [],
   "source": [
    "data_iter = iter(train_loader)\n",
    "images, labels = data_iter.next()"
   ]
  },
  {
   "cell_type": "markdown",
   "metadata": {},
   "source": [
    "Hemos descargado el conjunto de pruebas y de entrenamiento. Al colocar los datos en un `DataLoader` podremos acceder cada lote de información mediante un iterador (más adelante).\n",
    "\n",
    "Echemos un vistazo a una imagen de muestra."
   ]
  },
  {
   "cell_type": "code",
   "execution_count": 4,
   "metadata": {},
   "outputs": [
    {
     "data": {
      "text/plain": [
       "<matplotlib.image.AxesImage at 0x7f72a57e40f0>"
      ]
     },
     "execution_count": 4,
     "metadata": {},
     "output_type": "execute_result"
    },
    {
     "data": {
      "image/png": "[encoded data removed]",
      "text/plain": [
       "<matplotlib.figure.Figure at 0x7f7350152940>"
      ]
     },
     "metadata": {
      "image/png": {
       "height": 250,
       "width": 253
      }
     },
     "output_type": "display_data"
    }
   ],
   "source": [
    "plt.imshow(images[1].numpy().squeeze(), cmap='gray')"
   ]
  },
  {
   "cell_type": "markdown",
   "metadata": {},
   "source": [
    "## Construyendo Redes en PyTorch\n",
    "\n",
    "Hay muchas formas de construir una red neuronal en PyTorch.\n",
    "\n",
    "En la celda de abajo estamos creando una subclase de `nn.Module` para modelar la arquitectura de nuestra red.\n",
    "\n",
    "Fíjate en que, la arquitectura como tal, la estamos definiendo en el constructor, mientras que el método `forward` especifica las operaciones necesarias para propagar la información hacia delante en la red.\n",
    "\n",
    "PyTorch soporta equivalentes funcionales para cosas como ReLUs o funciones de activación como softmax. Aquí estamos usándolas bajo el alias `F` que le dimos al paquete `torch.nn.functional`."
   ]
  },
  {
   "cell_type": "code",
   "execution_count": 5,
   "metadata": {},
   "outputs": [
    {
     "data": {
      "text/plain": [
       "Network(\n",
       "  (fully_connected_1): Linear(in_features=784, out_features=128, bias=True)\n",
       "  (fully_connected_2): Linear(in_features=128, out_features=64, bias=True)\n",
       "  (fully_connected_3): Linear(in_features=64, out_features=10, bias=True)\n",
       ")"
      ]
     },
     "execution_count": 5,
     "metadata": {},
     "output_type": "execute_result"
    }
   ],
   "source": [
    "class Network(nn.Module):\n",
    "    def __init__(self):\n",
    "        super().__init__()\n",
    "        self.fully_connected_1 = nn.Linear(784, 128)\n",
    "        self.fully_connected_2 = nn.Linear(128, 64)\n",
    "        self.fully_connected_3 = nn.Linear(64, 10)\n",
    "        \n",
    "    def forward(self, x):\n",
    "        x = self.fully_connected_1(x)\n",
    "        x = F.relu(x)\n",
    "        x = self.fully_connected_2(x)\n",
    "        x = F.relu(x)\n",
    "        x = self.fully_connected_3(x)\n",
    "        x = F.softmax(x, dim=1)\n",
    "        \n",
    "        return x\n",
    "    \n",
    "model = Network()\n",
    "model"
   ]
  },
  {
   "cell_type": "markdown",
   "metadata": {},
   "source": [
    "### Inicializando los pesos y _biases_\n",
    "\n",
    "Ambos son iniciados automáticamente, pero podemos sobreescribirlos si queremos.\n",
    "\n",
    "Éstos son tensores almacenados como miembros de cada capa."
   ]
  },
  {
   "cell_type": "code",
   "execution_count": 6,
   "metadata": {},
   "outputs": [
    {
     "name": "stdout",
     "output_type": "stream",
     "text": [
      "Parameter containing:\n",
      "tensor([[ 0.0326,  0.0228, -0.0310,  ...,  0.0218,  0.0339, -0.0046],\n",
      "        [ 0.0137, -0.0112, -0.0206,  ...,  0.0184, -0.0125, -0.0350],\n",
      "        [ 0.0149, -0.0148, -0.0295,  ...,  0.0258,  0.0101, -0.0170],\n",
      "        ...,\n",
      "        [ 0.0012,  0.0308, -0.0005,  ..., -0.0200,  0.0170,  0.0072],\n",
      "        [-0.0129,  0.0275,  0.0207,  ...,  0.0219, -0.0276,  0.0338],\n",
      "        [ 0.0245, -0.0036,  0.0288,  ...,  0.0060, -0.0067,  0.0277]],\n",
      "       requires_grad=True)\n",
      "Parameter containing:\n",
      "tensor([-0.0063,  0.0080,  0.0192, -0.0143, -0.0038,  0.0241, -0.0184, -0.0194,\n",
      "        -0.0048, -0.0245,  0.0209, -0.0109,  0.0292, -0.0073, -0.0121, -0.0193,\n",
      "         0.0087, -0.0044, -0.0040,  0.0299, -0.0214,  0.0170,  0.0114, -0.0145,\n",
      "        -0.0186, -0.0011, -0.0102,  0.0035, -0.0081, -0.0027,  0.0016, -0.0118,\n",
      "         0.0128,  0.0106, -0.0012,  0.0169,  0.0093,  0.0209, -0.0248, -0.0159,\n",
      "         0.0292,  0.0153,  0.0221, -0.0093, -0.0045, -0.0264,  0.0044,  0.0177,\n",
      "         0.0115,  0.0091,  0.0169, -0.0259,  0.0155,  0.0114,  0.0119,  0.0055,\n",
      "        -0.0015,  0.0322,  0.0311,  0.0139,  0.0022, -0.0207, -0.0061,  0.0020,\n",
      "        -0.0354,  0.0087, -0.0288,  0.0168,  0.0008, -0.0270, -0.0111,  0.0211,\n",
      "        -0.0047, -0.0171,  0.0055,  0.0312,  0.0307,  0.0311,  0.0068,  0.0139,\n",
      "         0.0067,  0.0188,  0.0309, -0.0061, -0.0182,  0.0161, -0.0143,  0.0106,\n",
      "        -0.0286, -0.0266,  0.0237, -0.0214,  0.0221, -0.0075,  0.0305,  0.0206,\n",
      "        -0.0061, -0.0181, -0.0043,  0.0174, -0.0137,  0.0048, -0.0085,  0.0020,\n",
      "        -0.0181, -0.0028, -0.0152,  0.0147, -0.0344,  0.0064, -0.0222, -0.0296,\n",
      "         0.0144,  0.0250, -0.0067,  0.0151,  0.0199, -0.0231, -0.0180,  0.0344,\n",
      "        -0.0092, -0.0097, -0.0302, -0.0015, -0.0354,  0.0190, -0.0018,  0.0201],\n",
      "       requires_grad=True)\n"
     ]
    }
   ],
   "source": [
    "print(model.fully_connected_1.weight)\n",
    "print(model.fully_connected_1.bias)"
   ]
  },
  {
   "cell_type": "markdown",
   "metadata": {},
   "source": [
    "Para modificar estos tensores podemos usar operaciones in situ."
   ]
  },
  {
   "cell_type": "code",
   "execution_count": 7,
   "metadata": {},
   "outputs": [
    {
     "data": {
      "text/plain": [
       "tensor([0., 0., 0., 0., 0., 0., 0., 0., 0., 0., 0., 0., 0., 0., 0., 0., 0., 0.,\n",
       "        0., 0., 0., 0., 0., 0., 0., 0., 0., 0., 0., 0., 0., 0., 0., 0., 0., 0.,\n",
       "        0., 0., 0., 0., 0., 0., 0., 0., 0., 0., 0., 0., 0., 0., 0., 0., 0., 0.,\n",
       "        0., 0., 0., 0., 0., 0., 0., 0., 0., 0., 0., 0., 0., 0., 0., 0., 0., 0.,\n",
       "        0., 0., 0., 0., 0., 0., 0., 0., 0., 0., 0., 0., 0., 0., 0., 0., 0., 0.,\n",
       "        0., 0., 0., 0., 0., 0., 0., 0., 0., 0., 0., 0., 0., 0., 0., 0., 0., 0.,\n",
       "        0., 0., 0., 0., 0., 0., 0., 0., 0., 0., 0., 0., 0., 0., 0., 0., 0., 0.,\n",
       "        0., 0.])"
      ]
     },
     "execution_count": 7,
     "metadata": {},
     "output_type": "execute_result"
    }
   ],
   "source": [
    "# Set biases to all 0s\n",
    "model.fully_connected_1.bias.data.fill_(0)"
   ]
  },
  {
   "cell_type": "code",
   "execution_count": 8,
   "metadata": {},
   "outputs": [
    {
     "data": {
      "text/plain": [
       "tensor([[ 0.0135, -0.0052,  0.0008,  ...,  0.0111, -0.0221, -0.0054],\n",
       "        [-0.0075,  0.0216, -0.0119,  ...,  0.0218,  0.0084, -0.0003],\n",
       "        [ 0.0055, -0.0016,  0.0005,  ..., -0.0074,  0.0210, -0.0143],\n",
       "        ...,\n",
       "        [ 0.0142,  0.0058,  0.0168,  ..., -0.0169, -0.0060, -0.0081],\n",
       "        [-0.0038,  0.0151,  0.0096,  ...,  0.0194, -0.0001,  0.0157],\n",
       "        [ 0.0064, -0.0116,  0.0134,  ..., -0.0092, -0.0070,  0.0032]])"
      ]
     },
     "execution_count": 8,
     "metadata": {},
     "output_type": "execute_result"
    }
   ],
   "source": [
    "# Sample from random normal\n",
    "model.fully_connected_1.weight.data.normal_(std=0.01)"
   ]
  },
  {
   "cell_type": "markdown",
   "metadata": {},
   "source": [
    "### Pase hacia adelante\n",
    "\n",
    "Cool. Ya tenemos nuestra red. Veamos qué ocurre cuando le pasamos una imagen. Para ello, primero debemos convertirla en un tensor para luego proporcionársela al método `forward` de la red."
   ]
  },
  {
   "cell_type": "code",
   "execution_count": 9,
   "metadata": {},
   "outputs": [
    {
     "data": {
      "image/png": "[encoded data removed]",
      "text/plain": [
       "<matplotlib.figure.Figure at 0x7f7350152d30>"
      ]
     },
     "metadata": {
      "image/png": {
       "height": 521,
       "width": 320
      }
     },
     "output_type": "display_data"
    }
   ],
   "source": [
    "data_iter = iter(train_loader)\n",
    "images, labels = data_iter.next()\n",
    "\n",
    "images.resize_(64, 1, 784)\n",
    "\n",
    "image_index = 0\n",
    "ps = model.forward(images[image_index, :])\n",
    "\n",
    "image = images[image_index]\n",
    "utils.view_classify(image.view(1, 28, 28), ps)"
   ]
  },
  {
   "cell_type": "markdown",
   "metadata": {},
   "source": [
    "Pues, nuestra red no es muy inteligente... Lo cual es de esperar debido a que no la hemos entrenado aún."
   ]
  },
  {
   "cell_type": "markdown",
   "metadata": {},
   "source": [
    "### Otra manera de construir redes\n",
    "\n",
    "Si eres un aficionado a la programación funcional o te encanta el API `Sequential` de Keras, entonces la próxima celda se te hará familiar.\n",
    "\n",
    "Básicamente, estamos definiendo nuestra red como un lista de capas u operaciones por las cuales el tensor de entrada deberá pasar en secuencia."
   ]
  },
  {
   "cell_type": "code",
   "execution_count": 10,
   "metadata": {},
   "outputs": [
    {
     "name": "stdout",
     "output_type": "stream",
     "text": [
      "Sequential(\n",
      "  (0): Linear(in_features=784, out_features=128, bias=True)\n",
      "  (1): ReLU()\n",
      "  (2): Linear(in_features=128, out_features=64, bias=True)\n",
      "  (3): ReLU()\n",
      "  (4): Linear(in_features=64, out_features=10, bias=True)\n",
      "  (5): Softmax()\n",
      ")\n"
     ]
    },
    {
     "data": {
      "image/png": "[encoded data removed]",
      "text/plain": [
       "<matplotlib.figure.Figure at 0x7f72a1f1cc18>"
      ]
     },
     "metadata": {
      "image/png": {
       "height": 521,
       "width": 329
      }
     },
     "output_type": "display_data"
    }
   ],
   "source": [
    "input_size = 784\n",
    "hidden_sizes = [128, 64]\n",
    "output_size = 10\n",
    "\n",
    "model = nn.Sequential(nn.Linear(input_size, hidden_sizes[0]),\n",
    "                      nn.ReLU(),\n",
    "                      nn.Linear(hidden_sizes[0], hidden_sizes[1]),\n",
    "                      nn.ReLU(),\n",
    "                      nn.Linear(hidden_sizes[1], output_size),\n",
    "                      nn.Softmax(dim=1))\n",
    "print(model)\n",
    "\n",
    "images, labels = next(iter(train_loader))\n",
    "images.resize_(images.shape[0], 1, 784)\n",
    "ps = model.forward(images[0, :])\n",
    "utils.view_classify(images[0].view(1, 28, 28), ps)"
   ]
  },
  {
   "cell_type": "markdown",
   "metadata": {},
   "source": [
    "El problema con esta manera de crear una red neuronal es que terminamos con índices en vez de nombres asociados a cada operación. Podemos solucionar esto pasándole un `OrderedDict` al constructor de `nn.Sequential`. Cada elemento en un `OrderedDict` será un par de la forma (_nombre de la operación_, _operación_)"
   ]
  },
  {
   "cell_type": "code",
   "execution_count": 11,
   "metadata": {},
   "outputs": [
    {
     "data": {
      "text/plain": [
       "Sequential(\n",
       "  (fully_connected_1): Linear(in_features=784, out_features=128, bias=True)\n",
       "  (relu_1): ReLU()\n",
       "  (fully_connected_2): Linear(in_features=128, out_features=64, bias=True)\n",
       "  (relu_2): ReLU()\n",
       "  (output): Linear(in_features=64, out_features=10, bias=True)\n",
       "  (softmax): Softmax()\n",
       ")"
      ]
     },
     "execution_count": 11,
     "metadata": {},
     "output_type": "execute_result"
    }
   ],
   "source": [
    "from collections import OrderedDict\n",
    "\n",
    "model = nn.Sequential(OrderedDict(\n",
    "            [('fully_connected_1', nn.Linear(input_size, hidden_sizes[0])),\n",
    "             ('relu_1', nn.ReLU()),\n",
    "             ('fully_connected_2', nn.Linear(hidden_sizes[0], hidden_sizes[1])),\n",
    "             ('relu_2', nn.ReLU()),\n",
    "             ('output', nn.Linear(hidden_sizes[1], output_size)),\n",
    "             ('softmax', nn.Softmax(dim=1))]))\n",
    "\n",
    "model"
   ]
  },
  {
   "cell_type": "markdown",
   "metadata": {},
   "source": [
    "Solo por diversión, creemos una red más compleja."
   ]
  },
  {
   "cell_type": "code",
   "execution_count": 12,
   "metadata": {},
   "outputs": [
    {
     "data": {
      "text/plain": [
       "Sequential(\n",
       "  (fully_connected_1): Linear(in_features=784, out_features=400, bias=True)\n",
       "  (relu_1): ReLU()\n",
       "  (fully_connected_2): Linear(in_features=400, out_features=200, bias=True)\n",
       "  (relu_2): ReLU()\n",
       "  (fully_connected_3): Linear(in_features=200, out_features=100, bias=True)\n",
       "  (relu_3): ReLU()\n",
       "  (output): Linear(in_features=100, out_features=10, bias=True)\n",
       "  (softmax): Softmax()\n",
       ")"
      ]
     },
     "execution_count": 12,
     "metadata": {},
     "output_type": "execute_result"
    }
   ],
   "source": [
    "input_size = 784\n",
    "layer_sizes = [400, 200, 100]\n",
    "output_size = 10\n",
    "\n",
    "model = model = nn.Sequential(OrderedDict(\n",
    "            [('fully_connected_1', nn.Linear(input_size, layer_sizes[0])),\n",
    "             ('relu_1', nn.ReLU()),\n",
    "             ('fully_connected_2', nn.Linear(layer_sizes[0], layer_sizes[1])),\n",
    "             ('relu_2', nn.ReLU()),\n",
    "             ('fully_connected_3', nn.Linear(layer_sizes[1], layer_sizes[2])),\n",
    "             ('relu_3', nn.ReLU()),\n",
    "             ('output', nn.Linear(layer_sizes[2], output_size)),\n",
    "             ('softmax', nn.Softmax(dim=1))]))\n",
    "\n",
    "model"
   ]
  },
  {
   "cell_type": "code",
   "execution_count": 13,
   "metadata": {},
   "outputs": [
    {
     "data": {
      "image/png": "[encoded data removed]",
      "text/plain": [
       "<matplotlib.figure.Figure at 0x7f72a1f46978>"
      ]
     },
     "metadata": {
      "image/png": {
       "height": 521,
       "width": 320
      }
     },
     "output_type": "display_data"
    }
   ],
   "source": [
    "images, labels = next(iter(train_loader))\n",
    "images.resize_(images.shape[0], 1, 784)\n",
    "ps = model.forward(images[0, :])\n",
    "utils.view_classify(images[0].view(1, 28, 28), ps)"
   ]
  }
 ],
 "metadata": {
  "kernelspec": {
   "display_name": "Python 3",
   "language": "python",
   "name": "python3"
  },
  "language_info": {
   "codemirror_mode": {
    "name": "ipython",
    "version": 3
   },
   "file_extension": ".py",
   "mimetype": "text/x-python",
   "name": "python",
   "nbconvert_exporter": "python",
   "pygments_lexer": "ipython3",
   "version": "3.6.7"
  }
 },
 "nbformat": 4,
 "nbformat_minor": 2
}
